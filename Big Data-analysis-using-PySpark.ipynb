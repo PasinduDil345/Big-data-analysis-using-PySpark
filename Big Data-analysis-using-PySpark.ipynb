{
  "nbformat": 4,
  "nbformat_minor": 0,
  "metadata": {
    "colab": {
      "provenance": []
    },
    "kernelspec": {
      "name": "python3",
      "display_name": "Python 3"
    },
    "language_info": {
      "name": "python"
    }
  },
  "cells": [
    {
      "cell_type": "code",
      "execution_count": null,
      "metadata": {
        "id": "0-tzGfUdCQUd"
      },
      "outputs": [],
      "source": [
        "\n",
        "from pyspark.sql import SparkSession\n",
        "\n",
        "spark = SparkSession.builder \\\n",
        "    .appName(\"Advanced Data Analytics\") \\\n",
        "    .getOrCreate()"
      ]
    },
    {
      "cell_type": "code",
      "source": [
        "from google.colab import files\n",
        "from pyspark.sql import SparkSession\n",
        "import pandas as pd\n",
        "\n",
        "# Initialize Spark session\n",
        "spark = SparkSession.builder.appName(\"PharmacySales\").getOrCreate()\n",
        "\n",
        "# Upload the file\n",
        "uploaded = files.upload()\n",
        "\n",
        "# Get the uploaded file name\n",
        "filename = list(uploaded.keys())[0]\n",
        "\n",
        "# Read the file using PySpark\n",
        "df = spark.read.csv(filename, header=True, inferSchema=True)\n",
        "\n",
        "# Show first few rows\n",
        "df.show(5)\n"
      ],
      "metadata": {
        "colab": {
          "base_uri": "https://localhost:8080/",
          "height": 284
        },
        "id": "eX-9L46tCpqL",
        "outputId": "90ba621c-c567-479a-8a03-1bb0c395e6a8"
      },
      "execution_count": null,
      "outputs": [
        {
          "output_type": "display_data",
          "data": {
            "text/plain": [
              "<IPython.core.display.HTML object>"
            ],
            "text/html": [
              "\n",
              "     <input type=\"file\" id=\"files-70fff469-8aa5-4898-9469-1cde60fdab89\" name=\"files[]\" multiple disabled\n",
              "        style=\"border:none\" />\n",
              "     <output id=\"result-70fff469-8aa5-4898-9469-1cde60fdab89\">\n",
              "      Upload widget is only available when the cell has been executed in the\n",
              "      current browser session. Please rerun this cell to enable.\n",
              "      </output>\n",
              "      <script>// Copyright 2017 Google LLC\n",
              "//\n",
              "// Licensed under the Apache License, Version 2.0 (the \"License\");\n",
              "// you may not use this file except in compliance with the License.\n",
              "// You may obtain a copy of the License at\n",
              "//\n",
              "//      http://www.apache.org/licenses/LICENSE-2.0\n",
              "//\n",
              "// Unless required by applicable law or agreed to in writing, software\n",
              "// distributed under the License is distributed on an \"AS IS\" BASIS,\n",
              "// WITHOUT WARRANTIES OR CONDITIONS OF ANY KIND, either express or implied.\n",
              "// See the License for the specific language governing permissions and\n",
              "// limitations under the License.\n",
              "\n",
              "/**\n",
              " * @fileoverview Helpers for google.colab Python module.\n",
              " */\n",
              "(function(scope) {\n",
              "function span(text, styleAttributes = {}) {\n",
              "  const element = document.createElement('span');\n",
              "  element.textContent = text;\n",
              "  for (const key of Object.keys(styleAttributes)) {\n",
              "    element.style[key] = styleAttributes[key];\n",
              "  }\n",
              "  return element;\n",
              "}\n",
              "\n",
              "// Max number of bytes which will be uploaded at a time.\n",
              "const MAX_PAYLOAD_SIZE = 100 * 1024;\n",
              "\n",
              "function _uploadFiles(inputId, outputId) {\n",
              "  const steps = uploadFilesStep(inputId, outputId);\n",
              "  const outputElement = document.getElementById(outputId);\n",
              "  // Cache steps on the outputElement to make it available for the next call\n",
              "  // to uploadFilesContinue from Python.\n",
              "  outputElement.steps = steps;\n",
              "\n",
              "  return _uploadFilesContinue(outputId);\n",
              "}\n",
              "\n",
              "// This is roughly an async generator (not supported in the browser yet),\n",
              "// where there are multiple asynchronous steps and the Python side is going\n",
              "// to poll for completion of each step.\n",
              "// This uses a Promise to block the python side on completion of each step,\n",
              "// then passes the result of the previous step as the input to the next step.\n",
              "function _uploadFilesContinue(outputId) {\n",
              "  const outputElement = document.getElementById(outputId);\n",
              "  const steps = outputElement.steps;\n",
              "\n",
              "  const next = steps.next(outputElement.lastPromiseValue);\n",
              "  return Promise.resolve(next.value.promise).then((value) => {\n",
              "    // Cache the last promise value to make it available to the next\n",
              "    // step of the generator.\n",
              "    outputElement.lastPromiseValue = value;\n",
              "    return next.value.response;\n",
              "  });\n",
              "}\n",
              "\n",
              "/**\n",
              " * Generator function which is called between each async step of the upload\n",
              " * process.\n",
              " * @param {string} inputId Element ID of the input file picker element.\n",
              " * @param {string} outputId Element ID of the output display.\n",
              " * @return {!Iterable<!Object>} Iterable of next steps.\n",
              " */\n",
              "function* uploadFilesStep(inputId, outputId) {\n",
              "  const inputElement = document.getElementById(inputId);\n",
              "  inputElement.disabled = false;\n",
              "\n",
              "  const outputElement = document.getElementById(outputId);\n",
              "  outputElement.innerHTML = '';\n",
              "\n",
              "  const pickedPromise = new Promise((resolve) => {\n",
              "    inputElement.addEventListener('change', (e) => {\n",
              "      resolve(e.target.files);\n",
              "    });\n",
              "  });\n",
              "\n",
              "  const cancel = document.createElement('button');\n",
              "  inputElement.parentElement.appendChild(cancel);\n",
              "  cancel.textContent = 'Cancel upload';\n",
              "  const cancelPromise = new Promise((resolve) => {\n",
              "    cancel.onclick = () => {\n",
              "      resolve(null);\n",
              "    };\n",
              "  });\n",
              "\n",
              "  // Wait for the user to pick the files.\n",
              "  const files = yield {\n",
              "    promise: Promise.race([pickedPromise, cancelPromise]),\n",
              "    response: {\n",
              "      action: 'starting',\n",
              "    }\n",
              "  };\n",
              "\n",
              "  cancel.remove();\n",
              "\n",
              "  // Disable the input element since further picks are not allowed.\n",
              "  inputElement.disabled = true;\n",
              "\n",
              "  if (!files) {\n",
              "    return {\n",
              "      response: {\n",
              "        action: 'complete',\n",
              "      }\n",
              "    };\n",
              "  }\n",
              "\n",
              "  for (const file of files) {\n",
              "    const li = document.createElement('li');\n",
              "    li.append(span(file.name, {fontWeight: 'bold'}));\n",
              "    li.append(span(\n",
              "        `(${file.type || 'n/a'}) - ${file.size} bytes, ` +\n",
              "        `last modified: ${\n",
              "            file.lastModifiedDate ? file.lastModifiedDate.toLocaleDateString() :\n",
              "                                    'n/a'} - `));\n",
              "    const percent = span('0% done');\n",
              "    li.appendChild(percent);\n",
              "\n",
              "    outputElement.appendChild(li);\n",
              "\n",
              "    const fileDataPromise = new Promise((resolve) => {\n",
              "      const reader = new FileReader();\n",
              "      reader.onload = (e) => {\n",
              "        resolve(e.target.result);\n",
              "      };\n",
              "      reader.readAsArrayBuffer(file);\n",
              "    });\n",
              "    // Wait for the data to be ready.\n",
              "    let fileData = yield {\n",
              "      promise: fileDataPromise,\n",
              "      response: {\n",
              "        action: 'continue',\n",
              "      }\n",
              "    };\n",
              "\n",
              "    // Use a chunked sending to avoid message size limits. See b/62115660.\n",
              "    let position = 0;\n",
              "    do {\n",
              "      const length = Math.min(fileData.byteLength - position, MAX_PAYLOAD_SIZE);\n",
              "      const chunk = new Uint8Array(fileData, position, length);\n",
              "      position += length;\n",
              "\n",
              "      const base64 = btoa(String.fromCharCode.apply(null, chunk));\n",
              "      yield {\n",
              "        response: {\n",
              "          action: 'append',\n",
              "          file: file.name,\n",
              "          data: base64,\n",
              "        },\n",
              "      };\n",
              "\n",
              "      let percentDone = fileData.byteLength === 0 ?\n",
              "          100 :\n",
              "          Math.round((position / fileData.byteLength) * 100);\n",
              "      percent.textContent = `${percentDone}% done`;\n",
              "\n",
              "    } while (position < fileData.byteLength);\n",
              "  }\n",
              "\n",
              "  // All done.\n",
              "  yield {\n",
              "    response: {\n",
              "      action: 'complete',\n",
              "    }\n",
              "  };\n",
              "}\n",
              "\n",
              "scope.google = scope.google || {};\n",
              "scope.google.colab = scope.google.colab || {};\n",
              "scope.google.colab._files = {\n",
              "  _uploadFiles,\n",
              "  _uploadFilesContinue,\n",
              "};\n",
              "})(self);\n",
              "</script> "
            ]
          },
          "metadata": {}
        },
        {
          "output_type": "stream",
          "name": "stdout",
          "text": [
            "Saving social_media_engagement.csv to social_media_engagement.csv\n",
            "+-------+---------+---------+-------------------+--------------------+--------------------+-----+--------+------+--------------+------------+---------+--------+---------------+\n",
            "|post_id| platform|post_type|          post_time|             caption|            hashtags|likes|comments|shares|caption_length|num_hashtags|post_hour|post_day|sentiment_score|\n",
            "+-------+---------+---------+-------------------+--------------------+--------------------+-----+--------+------+--------------+------------+---------+--------+---------------+\n",
            "|      1| Facebook|    image|2023-08-17 14:45:00|   Best day ever! 🎉|             #Social| 2121|     474|   628|            16|           1|       14|Thursday|       positive|\n",
            "|      2| Facebook| carousel|2023-05-14 00:45:00|Here's a quick up...|#Family, #Communi...| 3660|     432|   694|            22|           3|        0|  Sunday|        neutral|\n",
            "|      3|Instagram|     poll|2023-02-21 16:15:00| Not my best day. 😞|#Beauty, #Fashion...| 4955|     408|   688|            18|           3|       16| Tuesday|       negative|\n",
            "|      4|  Twitter|    image|2023-11-16 00:45:00|Disappointed but ...|#Trending, #Tech,...| 1183|      90|   187|            27|           3|        0|Thursday|       negative|\n",
            "|      5|  Twitter|    video|2023-05-23 00:30:00|   Exciting news! 🚀|#News, #Politics,...| 3499|     247|   286|            16|           3|        0| Tuesday|       positive|\n",
            "+-------+---------+---------+-------------------+--------------------+--------------------+-----+--------+------+--------------+------------+---------+--------+---------------+\n",
            "only showing top 5 rows\n",
            "\n"
          ]
        }
      ]
    },
    {
      "cell_type": "code",
      "source": [
        "df.show()"
      ],
      "metadata": {
        "colab": {
          "base_uri": "https://localhost:8080/"
        },
        "id": "5ia35aLWDDFI",
        "outputId": "0bf66a69-8c9d-498c-c7d2-fc607184fbf6"
      },
      "execution_count": null,
      "outputs": [
        {
          "output_type": "stream",
          "name": "stdout",
          "text": [
            "+-------+---------+---------+-------------------+--------------------+--------------------+-----+--------+------+--------------+------------+---------+---------+---------------+\n",
            "|post_id| platform|post_type|          post_time|             caption|            hashtags|likes|comments|shares|caption_length|num_hashtags|post_hour| post_day|sentiment_score|\n",
            "+-------+---------+---------+-------------------+--------------------+--------------------+-----+--------+------+--------------+------------+---------+---------+---------------+\n",
            "|      1| Facebook|    image|2023-08-17 14:45:00|   Best day ever! 🎉|             #Social| 2121|     474|   628|            16|           1|       14| Thursday|       positive|\n",
            "|      2| Facebook| carousel|2023-05-14 00:45:00|Here's a quick up...|#Family, #Communi...| 3660|     432|   694|            22|           3|        0|   Sunday|        neutral|\n",
            "|      3|Instagram|     poll|2023-02-21 16:15:00| Not my best day. 😞|#Beauty, #Fashion...| 4955|     408|   688|            18|           3|       16|  Tuesday|       negative|\n",
            "|      4|  Twitter|    image|2023-11-16 00:45:00|Disappointed but ...|#Trending, #Tech,...| 1183|      90|   187|            27|           3|        0| Thursday|       negative|\n",
            "|      5|  Twitter|    video|2023-05-23 00:30:00|   Exciting news! 🚀|#News, #Politics,...| 3499|     247|   286|            16|           3|        0|  Tuesday|       positive|\n",
            "|      6|Instagram| carousel|2023-05-05 20:00:00|New post, check i...|        #Photography|  256|     186|   211|            23|           1|       20|   Friday|        neutral|\n",
            "|      7|Instagram|    image|2023-02-26 11:45:00|Loving this new v...|             #Foodie| 1982|      30|   906|            23|           1|       11|   Sunday|       positive|\n",
            "|      8|Instagram|     text|2023-10-28 19:30:00|New post, check i...|            #Fashion| 1274|      45|   216|            23|           1|       19| Saturday|        neutral|\n",
            "|      9| Facebook|    video|2023-05-02 06:15:00|   Just another day.|#Friends, #Family...|  317|     249|   221|            17|           3|        6|  Tuesday|        neutral|\n",
            "|     10|  Twitter| carousel|2023-05-11 11:00:00|Here's a quick up...|#News, #Entertain...| 1878|     225|   438|            22|           3|       11| Thursday|        neutral|\n",
            "|     11|  Twitter|     text|2023-12-08 02:15:00| Feeling down today.|#Tech, #Trending,...| 1446|      44|    52|            19|           3|        2|   Friday|       negative|\n",
            "|     12|  Twitter|    video|2023-06-15 03:15:00|Amazing experienc...|           #Politics|  304|      42|    89|            21|           1|        3| Thursday|       positive|\n",
            "|     13| Facebook| carousel|2023-11-11 15:45:00| Not my best day. 😞| #Marketing, #Social|   45|      78|   375|            18|           2|       15| Saturday|       negative|\n",
            "|     14|  Twitter|     text|2023-09-30 10:30:00|   Exciting news! 🚀|           #Politics| 1333|     144|   123|            16|           1|       10| Saturday|       positive|\n",
            "|     15| Facebook| carousel|2023-01-09 20:00:00|   Best day ever! 🎉|#Friends, #Social...|  889|     314|   262|            16|           3|       20|   Monday|       positive|\n",
            "|     16|  Twitter|    image|2023-02-10 13:00:00|  What do you think?|#Entertainment, #...| 2348|     154|    18|            18|           2|       13|   Friday|        neutral|\n",
            "|     17|Instagram|     poll|2023-07-05 05:15:00|   Best day ever! 🎉|        #Photography| 2872|      10|   736|            16|           1|        5|Wednesday|       positive|\n",
            "|     18|  Twitter|     text|2023-07-23 05:45:00|New post, check i...|#Entertainment, #...|  512|     123|   338|            23|           2|        5|   Sunday|        neutral|\n",
            "|     19|  Twitter|     text|2023-11-20 02:00:00|Amazing experienc...|               #Tech| 2013|     122|   183|            21|           1|        2|   Monday|       positive|\n",
            "|     20| Facebook|    image|2023-02-02 16:00:00|   Best day ever! 🎉|#Friends, #Events...|  455|      86|    79|            16|           3|       16| Thursday|       positive|\n",
            "+-------+---------+---------+-------------------+--------------------+--------------------+-----+--------+------+--------------+------------+---------+---------+---------------+\n",
            "only showing top 20 rows\n",
            "\n"
          ]
        }
      ]
    },
    {
      "cell_type": "code",
      "source": [
        "df.printSchema()"
      ],
      "metadata": {
        "colab": {
          "base_uri": "https://localhost:8080/"
        },
        "id": "ScdYmDyuDIVQ",
        "outputId": "04c911f5-8478-43b1-b4bd-60feef5dca31"
      },
      "execution_count": null,
      "outputs": [
        {
          "output_type": "stream",
          "name": "stdout",
          "text": [
            "root\n",
            " |-- post_id: integer (nullable = true)\n",
            " |-- platform: string (nullable = true)\n",
            " |-- post_type: string (nullable = true)\n",
            " |-- post_time: timestamp (nullable = true)\n",
            " |-- caption: string (nullable = true)\n",
            " |-- hashtags: string (nullable = true)\n",
            " |-- likes: integer (nullable = true)\n",
            " |-- comments: integer (nullable = true)\n",
            " |-- shares: integer (nullable = true)\n",
            " |-- caption_length: integer (nullable = true)\n",
            " |-- num_hashtags: integer (nullable = true)\n",
            " |-- post_hour: integer (nullable = true)\n",
            " |-- post_day: string (nullable = true)\n",
            " |-- sentiment_score: string (nullable = true)\n",
            "\n"
          ]
        }
      ]
    },
    {
      "cell_type": "code",
      "source": [
        "selected_df = df.select(\"likes\", \"comments\", \"shares\", \"caption_length\", \"num_hashtags\")\n",
        "selected_df.show()\n"
      ],
      "metadata": {
        "colab": {
          "base_uri": "https://localhost:8080/"
        },
        "id": "mKMz-oVBDNDR",
        "outputId": "50c99691-c932-4425-d131-e19643cd81b0"
      },
      "execution_count": null,
      "outputs": [
        {
          "output_type": "stream",
          "name": "stdout",
          "text": [
            "+-----+--------+------+--------------+------------+\n",
            "|likes|comments|shares|caption_length|num_hashtags|\n",
            "+-----+--------+------+--------------+------------+\n",
            "| 2121|     474|   628|            16|           1|\n",
            "| 3660|     432|   694|            22|           3|\n",
            "| 4955|     408|   688|            18|           3|\n",
            "| 1183|      90|   187|            27|           3|\n",
            "| 3499|     247|   286|            16|           3|\n",
            "|  256|     186|   211|            23|           1|\n",
            "| 1982|      30|   906|            23|           1|\n",
            "| 1274|      45|   216|            23|           1|\n",
            "|  317|     249|   221|            17|           3|\n",
            "| 1878|     225|   438|            22|           3|\n",
            "| 1446|      44|    52|            19|           3|\n",
            "|  304|      42|    89|            21|           1|\n",
            "|   45|      78|   375|            18|           2|\n",
            "| 1333|     144|   123|            16|           1|\n",
            "|  889|     314|   262|            16|           3|\n",
            "| 2348|     154|    18|            18|           2|\n",
            "| 2872|      10|   736|            16|           1|\n",
            "|  512|     123|   338|            23|           2|\n",
            "| 2013|     122|   183|            21|           1|\n",
            "|  455|      86|    79|            16|           3|\n",
            "+-----+--------+------+--------------+------------+\n",
            "only showing top 20 rows\n",
            "\n"
          ]
        }
      ]
    },
    {
      "cell_type": "code",
      "source": [
        "filtered_df = df.filter(df[\"likes\"] > 500)\n",
        "filtered_df.show()\n"
      ],
      "metadata": {
        "colab": {
          "base_uri": "https://localhost:8080/"
        },
        "id": "F-vGPEBxEdcj",
        "outputId": "52ffadb0-aff6-461e-c8be-b02e855cdc17"
      },
      "execution_count": null,
      "outputs": [
        {
          "output_type": "stream",
          "name": "stdout",
          "text": [
            "+-------+---------+---------+-------------------+--------------------+--------------------+-----+--------+------+--------------+------------+---------+---------+---------------+\n",
            "|post_id| platform|post_type|          post_time|             caption|            hashtags|likes|comments|shares|caption_length|num_hashtags|post_hour| post_day|sentiment_score|\n",
            "+-------+---------+---------+-------------------+--------------------+--------------------+-----+--------+------+--------------+------------+---------+---------+---------------+\n",
            "|      1| Facebook|    image|2023-08-17 14:45:00|   Best day ever! 🎉|             #Social| 2121|     474|   628|            16|           1|       14| Thursday|       positive|\n",
            "|      2| Facebook| carousel|2023-05-14 00:45:00|Here's a quick up...|#Family, #Communi...| 3660|     432|   694|            22|           3|        0|   Sunday|        neutral|\n",
            "|      3|Instagram|     poll|2023-02-21 16:15:00| Not my best day. 😞|#Beauty, #Fashion...| 4955|     408|   688|            18|           3|       16|  Tuesday|       negative|\n",
            "|      4|  Twitter|    image|2023-11-16 00:45:00|Disappointed but ...|#Trending, #Tech,...| 1183|      90|   187|            27|           3|        0| Thursday|       negative|\n",
            "|      5|  Twitter|    video|2023-05-23 00:30:00|   Exciting news! 🚀|#News, #Politics,...| 3499|     247|   286|            16|           3|        0|  Tuesday|       positive|\n",
            "|      7|Instagram|    image|2023-02-26 11:45:00|Loving this new v...|             #Foodie| 1982|      30|   906|            23|           1|       11|   Sunday|       positive|\n",
            "|      8|Instagram|     text|2023-10-28 19:30:00|New post, check i...|            #Fashion| 1274|      45|   216|            23|           1|       19| Saturday|        neutral|\n",
            "|     10|  Twitter| carousel|2023-05-11 11:00:00|Here's a quick up...|#News, #Entertain...| 1878|     225|   438|            22|           3|       11| Thursday|        neutral|\n",
            "|     11|  Twitter|     text|2023-12-08 02:15:00| Feeling down today.|#Tech, #Trending,...| 1446|      44|    52|            19|           3|        2|   Friday|       negative|\n",
            "|     14|  Twitter|     text|2023-09-30 10:30:00|   Exciting news! 🚀|           #Politics| 1333|     144|   123|            16|           1|       10| Saturday|       positive|\n",
            "|     15| Facebook| carousel|2023-01-09 20:00:00|   Best day ever! 🎉|#Friends, #Social...|  889|     314|   262|            16|           3|       20|   Monday|       positive|\n",
            "|     16|  Twitter|    image|2023-02-10 13:00:00|  What do you think?|#Entertainment, #...| 2348|     154|    18|            18|           2|       13|   Friday|        neutral|\n",
            "|     17|Instagram|     poll|2023-07-05 05:15:00|   Best day ever! 🎉|        #Photography| 2872|      10|   736|            16|           1|        5|Wednesday|       positive|\n",
            "|     18|  Twitter|     text|2023-07-23 05:45:00|New post, check i...|#Entertainment, #...|  512|     123|   338|            23|           2|        5|   Sunday|        neutral|\n",
            "|     19|  Twitter|     text|2023-11-20 02:00:00|Amazing experienc...|               #Tech| 2013|     122|   183|            21|           1|        2|   Monday|       positive|\n",
            "|     21|  Twitter|     poll|2023-05-02 06:15:00|New post, check i...|#Memes, #News, #S...|  559|     136|    55|            23|           3|        6|  Tuesday|        neutral|\n",
            "|     22|  Twitter| carousel|2023-01-30 13:30:00|   Best day ever! 🎉|#Politics, #Enter...| 1961|      44|   439|            16|           3|       13|   Monday|       positive|\n",
            "|     24|Instagram| carousel|2023-01-01 20:00:00|   Exciting news! 🚀|#Foodie, #InstaDaily| 5000|      80|   399|            16|           2|       20|   Sunday|       positive|\n",
            "|     25|  Twitter|     poll|2023-05-17 00:15:00|Amazing experienc...|#Entertainment, #...|  898|     130|   480|            21|           2|        0|Wednesday|       positive|\n",
            "|     26| Facebook| carousel|2023-10-05 06:30:00|Disappointed but ...|             #Social| 1992|      70|   515|            27|           1|        6| Thursday|       negative|\n",
            "+-------+---------+---------+-------------------+--------------------+--------------------+-----+--------+------+--------------+------------+---------+---------+---------------+\n",
            "only showing top 20 rows\n",
            "\n"
          ]
        }
      ]
    },
    {
      "cell_type": "code",
      "source": [
        "from pyspark.sql.functions import avg\n",
        "\n",
        "aggregated_df = df.groupBy(\"platform\").agg(avg(\"likes\").alias(\"avg_likes\"))\n",
        "aggregated_df.show()\n"
      ],
      "metadata": {
        "colab": {
          "base_uri": "https://localhost:8080/"
        },
        "id": "3Odl7p-BEzrw",
        "outputId": "5482d320-a433-4dd2-e118-35f969a6cbfd"
      },
      "execution_count": null,
      "outputs": [
        {
          "output_type": "stream",
          "name": "stdout",
          "text": [
            "+---------+------------------+\n",
            "| platform|         avg_likes|\n",
            "+---------+------------------+\n",
            "|Instagram| 2609.794202898551|\n",
            "|  Twitter|1523.7926829268292|\n",
            "| Facebook| 2660.146788990826|\n",
            "+---------+------------------+\n",
            "\n"
          ]
        }
      ]
    },
    {
      "cell_type": "code",
      "source": [
        "from pyspark.sql.functions import count, avg, max\n",
        "\n",
        "aggregated_df = df.groupBy(\"platform\").agg(\n",
        "    count(\"*\").alias(\"post_count\"),      # Count of posts per platform\n",
        "    avg(\"likes\").alias(\"avg_likes\"),     # Average likes per platform\n",
        "    max(\"likes\").alias(\"max_likes\")      # Maximum likes per platform\n",
        ")\n",
        "aggregated_df.show()\n"
      ],
      "metadata": {
        "colab": {
          "base_uri": "https://localhost:8080/"
        },
        "id": "_i55_uk6FIh4",
        "outputId": "83c54c20-2791-4534-85dd-08e09f23b31f"
      },
      "execution_count": null,
      "outputs": [
        {
          "output_type": "stream",
          "name": "stdout",
          "text": [
            "+---------+----------+------------------+---------+\n",
            "| platform|post_count|         avg_likes|max_likes|\n",
            "+---------+----------+------------------+---------+\n",
            "|Instagram|       345| 2609.794202898551|     5000|\n",
            "|  Twitter|       328|1523.7926829268292|     4298|\n",
            "| Facebook|       327| 2660.146788990826|     5000|\n",
            "+---------+----------+------------------+---------+\n",
            "\n"
          ]
        }
      ]
    },
    {
      "cell_type": "code",
      "source": [
        "df1 = df.select(\"post_id\", \"platform\", \"post_type\")\n",
        "df2 = df.select(\"post_id\", \"post_day\", \"likes\")\n"
      ],
      "metadata": {
        "id": "Xw2ibGWwFo3Y"
      },
      "execution_count": null,
      "outputs": []
    },
    {
      "cell_type": "code",
      "source": [
        "joined_df = df1.join(df2, on=\"post_id\", how=\"inner\")\n",
        "joined_df.show()\n"
      ],
      "metadata": {
        "colab": {
          "base_uri": "https://localhost:8080/"
        },
        "id": "P8mjSx46F8To",
        "outputId": "1676f029-4b58-4d8c-9bf0-9246f95b61c3"
      },
      "execution_count": null,
      "outputs": [
        {
          "output_type": "stream",
          "name": "stdout",
          "text": [
            "+-------+---------+---------+---------+-----+\n",
            "|post_id| platform|post_type| post_day|likes|\n",
            "+-------+---------+---------+---------+-----+\n",
            "|      1| Facebook|    image| Thursday| 2121|\n",
            "|      2| Facebook| carousel|   Sunday| 3660|\n",
            "|      3|Instagram|     poll|  Tuesday| 4955|\n",
            "|      4|  Twitter|    image| Thursday| 1183|\n",
            "|      5|  Twitter|    video|  Tuesday| 3499|\n",
            "|      6|Instagram| carousel|   Friday|  256|\n",
            "|      7|Instagram|    image|   Sunday| 1982|\n",
            "|      8|Instagram|     text| Saturday| 1274|\n",
            "|      9| Facebook|    video|  Tuesday|  317|\n",
            "|     10|  Twitter| carousel| Thursday| 1878|\n",
            "|     11|  Twitter|     text|   Friday| 1446|\n",
            "|     12|  Twitter|    video| Thursday|  304|\n",
            "|     13| Facebook| carousel| Saturday|   45|\n",
            "|     14|  Twitter|     text| Saturday| 1333|\n",
            "|     15| Facebook| carousel|   Monday|  889|\n",
            "|     16|  Twitter|    image|   Friday| 2348|\n",
            "|     17|Instagram|     poll|Wednesday| 2872|\n",
            "|     18|  Twitter|     text|   Sunday|  512|\n",
            "|     19|  Twitter|     text|   Monday| 2013|\n",
            "|     20| Facebook|    image| Thursday|  455|\n",
            "+-------+---------+---------+---------+-----+\n",
            "only showing top 20 rows\n",
            "\n"
          ]
        }
      ]
    },
    {
      "cell_type": "code",
      "source": [
        "from pyspark.sql.functions import col\n",
        "\n",
        "new_df = df.withColumn(\"double_likes\", col(\"likes\") * 2)\n",
        "new_df.show()\n",
        "\n"
      ],
      "metadata": {
        "colab": {
          "base_uri": "https://localhost:8080/"
        },
        "id": "V5uUFnmbGcKY",
        "outputId": "7820ea12-2592-47c7-d4c7-7913e9f369db"
      },
      "execution_count": null,
      "outputs": [
        {
          "output_type": "stream",
          "name": "stdout",
          "text": [
            "+-------+---------+---------+-------------------+--------------------+--------------------+-----+--------+------+--------------+------------+---------+---------+---------------+------------+\n",
            "|post_id| platform|post_type|          post_time|             caption|            hashtags|likes|comments|shares|caption_length|num_hashtags|post_hour| post_day|sentiment_score|double_likes|\n",
            "+-------+---------+---------+-------------------+--------------------+--------------------+-----+--------+------+--------------+------------+---------+---------+---------------+------------+\n",
            "|      1| Facebook|    image|2023-08-17 14:45:00|   Best day ever! 🎉|             #Social| 2121|     474|   628|            16|           1|       14| Thursday|       positive|        4242|\n",
            "|      2| Facebook| carousel|2023-05-14 00:45:00|Here's a quick up...|#Family, #Communi...| 3660|     432|   694|            22|           3|        0|   Sunday|        neutral|        7320|\n",
            "|      3|Instagram|     poll|2023-02-21 16:15:00| Not my best day. 😞|#Beauty, #Fashion...| 4955|     408|   688|            18|           3|       16|  Tuesday|       negative|        9910|\n",
            "|      4|  Twitter|    image|2023-11-16 00:45:00|Disappointed but ...|#Trending, #Tech,...| 1183|      90|   187|            27|           3|        0| Thursday|       negative|        2366|\n",
            "|      5|  Twitter|    video|2023-05-23 00:30:00|   Exciting news! 🚀|#News, #Politics,...| 3499|     247|   286|            16|           3|        0|  Tuesday|       positive|        6998|\n",
            "|      6|Instagram| carousel|2023-05-05 20:00:00|New post, check i...|        #Photography|  256|     186|   211|            23|           1|       20|   Friday|        neutral|         512|\n",
            "|      7|Instagram|    image|2023-02-26 11:45:00|Loving this new v...|             #Foodie| 1982|      30|   906|            23|           1|       11|   Sunday|       positive|        3964|\n",
            "|      8|Instagram|     text|2023-10-28 19:30:00|New post, check i...|            #Fashion| 1274|      45|   216|            23|           1|       19| Saturday|        neutral|        2548|\n",
            "|      9| Facebook|    video|2023-05-02 06:15:00|   Just another day.|#Friends, #Family...|  317|     249|   221|            17|           3|        6|  Tuesday|        neutral|         634|\n",
            "|     10|  Twitter| carousel|2023-05-11 11:00:00|Here's a quick up...|#News, #Entertain...| 1878|     225|   438|            22|           3|       11| Thursday|        neutral|        3756|\n",
            "|     11|  Twitter|     text|2023-12-08 02:15:00| Feeling down today.|#Tech, #Trending,...| 1446|      44|    52|            19|           3|        2|   Friday|       negative|        2892|\n",
            "|     12|  Twitter|    video|2023-06-15 03:15:00|Amazing experienc...|           #Politics|  304|      42|    89|            21|           1|        3| Thursday|       positive|         608|\n",
            "|     13| Facebook| carousel|2023-11-11 15:45:00| Not my best day. 😞| #Marketing, #Social|   45|      78|   375|            18|           2|       15| Saturday|       negative|          90|\n",
            "|     14|  Twitter|     text|2023-09-30 10:30:00|   Exciting news! 🚀|           #Politics| 1333|     144|   123|            16|           1|       10| Saturday|       positive|        2666|\n",
            "|     15| Facebook| carousel|2023-01-09 20:00:00|   Best day ever! 🎉|#Friends, #Social...|  889|     314|   262|            16|           3|       20|   Monday|       positive|        1778|\n",
            "|     16|  Twitter|    image|2023-02-10 13:00:00|  What do you think?|#Entertainment, #...| 2348|     154|    18|            18|           2|       13|   Friday|        neutral|        4696|\n",
            "|     17|Instagram|     poll|2023-07-05 05:15:00|   Best day ever! 🎉|        #Photography| 2872|      10|   736|            16|           1|        5|Wednesday|       positive|        5744|\n",
            "|     18|  Twitter|     text|2023-07-23 05:45:00|New post, check i...|#Entertainment, #...|  512|     123|   338|            23|           2|        5|   Sunday|        neutral|        1024|\n",
            "|     19|  Twitter|     text|2023-11-20 02:00:00|Amazing experienc...|               #Tech| 2013|     122|   183|            21|           1|        2|   Monday|       positive|        4026|\n",
            "|     20| Facebook|    image|2023-02-02 16:00:00|   Best day ever! 🎉|#Friends, #Events...|  455|      86|    79|            16|           3|       16| Thursday|       positive|         910|\n",
            "+-------+---------+---------+-------------------+--------------------+--------------------+-----+--------+------+--------------+------------+---------+---------+---------------+------------+\n",
            "only showing top 20 rows\n",
            "\n"
          ]
        }
      ]
    },
    {
      "cell_type": "code",
      "source": [
        "pandas_df = df.toPandas()\n"
      ],
      "metadata": {
        "id": "E5vvOkcqGeJB"
      },
      "execution_count": null,
      "outputs": []
    },
    {
      "cell_type": "code",
      "source": [
        "import matplotlib.pyplot as plt\n",
        "import seaborn as sns\n",
        "\n",
        "plt.figure(figsize=(8, 6))\n",
        "sns.histplot(pandas_df[\"likes\"], bins=20)\n",
        "plt.title(\"Distribution of Likes\")\n",
        "plt.xlabel(\"Likes\")\n",
        "plt.ylabel(\"Frequency\")\n",
        "plt.show()\n",
        "\n"
      ],
      "metadata": {
        "colab": {
          "base_uri": "https://localhost:8080/",
          "height": 564
        },
        "id": "dzZ4LgsaG38S",
        "outputId": "80b51eff-6291-45e9-8732-decc66eaa8c1"
      },
      "execution_count": null,
      "outputs": [
        {
          "output_type": "display_data",
          "data": {
            "text/plain": [
              "<Figure size 800x600 with 1 Axes>"
            ],
            "image/png": "[encoded data removed]"
          },
          "metadata": {}
        }
      ]
    }
  ]
}